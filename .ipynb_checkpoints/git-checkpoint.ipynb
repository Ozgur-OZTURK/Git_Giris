{
 "cells": [
  {
   "cell_type": "markdown",
   "metadata": {},
   "source": [
    "# Git Komutları"
   ]
  },
  {
   "cell_type": "markdown",
   "metadata": {},
   "source": [
    "##### Git = versiyon kontrol sistemidir. \n",
    "##### Github = Git ile entegre olmuş depolama ve paylaşım alanımızdır.\n",
    "##### Masaüstünde git için oluşturacağınız dosya dizinde terminale \"git init\" yazarak dizin oluşturulur.\n",
    "##### Git reposuna dosya eklemek için \"git add dosya_adi\" yazarız böylece dosyayı geçiş bölgesine eklemiş oluruz.\n",
    "##### \"git commit -m \"dosya yorumu\" ile yorum yaparak repoya eklemiş tamamlamış oluruz.\n",
    "##### \"git log\" ile aldığımız tüm versiyonları görürüz.\n",
    "##### \"git status\" ile projenin durumunu görebiliriz.\n",
    "##### \"git diff dosya_adi\" dosyada yapılan değişiklikleri satır satır bize gösterir.\n",
    "##### \"git diff\" komutunu parametresiz çalıştırırsak bize git deposu ile çalışma dizini arasındaki farklılıkları verir.\n",
    "##### \"git diff -sataged\" geçiş bölgesi ile git deposu arasındaki farklılıkları verir.\n",
    "##### Dosyaları silmek istersek ilk yol olarak direk çalışma dizininden dosyayı silebiriz. Sildikten sonra \"git rm dosya_adi\" yada \"git add dosya_adi\" ile dosyayı geçiş bölgesine taşırız. Daha sonra \"git commit -m \"dosya silindi\" kullanarak git reposuna bildiririz.\n",
    "##### Dosyaları silmek için ikinci yol ise \"git rm dosya_adi\" komutunu çalıştırınca dosya silinmiş olur ve daha sonra \"git commit -m 'dosya silindi'\" ile git reposuna bildirmiş oluruz.\n",
    "##### Klasör silmek için \" git rm -r klasör_adi/\" kullanırız daha sonra git reposuna bildirmek için \" git commit -m 'klasör_silindi'\" komutunu kullanırız.\n",
    "##### Dosya adının değiştirmek için \"git mv dosya_ilk_adi dosyanın_diger_adi\" yazarız daha sonra ise \"git commit -m 'dosya adı değişti'\" ile repoya bildirmiş oluruz.\n",
    "##### Dosyayı başka bir dizine taşımak için ise \"git mv tasinacak_dosya nereyetasinacak/\" yazarak dosyamızın dizinini değiştiririz daha sonra da \"git commit -m 'Dosya dizin değiştirdik' ile git reposuna bildirmiş oluruz.\n",
    "##### Bir proje oluşturduk daha sonra projede yanlışlık yaptığımızı farkettik ve geri almak istedik bu durumda terminal ekranımıza \"git checkout -- dosya_adi\" ile yaprığımız değişikliği geri almış olduk. Not: Projemizi geçiş bölgesine göndermedik.\n",
    "##### Bir proje dosyamızı sildiğimizi düşünelim bu durumda ise terminal ekranımıza \"git checkout -- dosya_adi\" yazarak tekrar dosyayı geri yükleye biliriz.    Not: Dosyamızı geçiş bölgesine göndermedik.\n",
    "##### Eğer dosyamızı geçiş bögesine göndermiş olsaydık(git add dosya_adi) geri almak için \"git reset HEAD dosya_adi\" yazarak geçiş bölgesinden geri aldık ve daha sonra \"git checkout -- dosya_adi\" komutunu kullanarak çalışma dizininde de geri almış olduk.\n",
    "##### Projemizin başka bir versiyonuna geri almak için terminal ekranımıza \"git log\" yazarak geçmişimizi görebiliriz ve \"git checkout versiyon_Id(HashCodu) -- .\" kod satırındaki son koyduğumuz \".\" tüm dosyaları geri getir demek oraya biz dosya ismi yazarsak sadece dosyamızı çağırmış oluruz. Daha sonra \"git commit -m 'versiyon_Id(HashCodu) kodlu versiyondan kopyalandı' diyerek repoya bildiririz."
   ]
  },
  {
   "cell_type": "markdown",
   "metadata": {},
   "source": [
    "# GitHub Kısmı"
   ]
  },
  {
   "cell_type": "markdown",
   "metadata": {},
   "source": [
    "##### GitHub ile bağlantı kurmamız için \"git init\" kodunun çalıştırıldığı dizindeki terminale \"git remote add origin baglanti_adresi\" yazıyorsunuz. Daha sonra dosyalarınızı GitHub hesabınıza yüklemek için \"git push -u origin master\" kodunu çalıştırıp daha sonra karşımıza gelen mail adresimizi ve parolamızı girerek devam ediyoruz. Böylece dizindeki dosyalarımızı yüklemiş olmaktayız.\n",
    "\n",
    "##### Eğer projemizde görmelerini istemediğimiz dosyalarımız varsa (veritabı dosyaları, kişisel bilgi içeren dosyalar  vb.) .gitignore adlı dosyaya bu dosyaların isimlerini yazıyoruz böylece git bu dosyaları takip etmez.\"cat >> .gitignore\" adında bir dosya oluşturucak. Proje dizinimizde bu kodu çalıştırdığımızda bizden dosya isimlerini yazmamızı isteyecek, görünmesini istemediğimiz dosyayı yazarak dosyanın görünmesini engelleyebiliriz. Not: dosyamızı oluşturduktan sonra \"add ve commit\" işlemlerini yapmıyoruz eğer yaparsak \".gitignore\" dosyasına yazsakta gözükecektir.\".gitignore\" dosyasını oluşturduktan sonra \"git add .\" ile tüm dizini geçiş bölgesine ekleriz daha sonra \"git commit -m 'gitignore eklendi'\" ile git reposuna bildirmiş oluruz.\n",
    "\n",
    "##### Eğer X dizinideki bütün dosyaları \".gitignore\" dosyasına ekleyip aralarından birkaçını eklemek istemiyorsak. X/* yazarız ve tüm X dizindeki dosyaları eklemiş oluruz ama X dizinindeki  \"k\" dosyasını eklemeyeceksek \"!X/k\" yazarak ignore olmaktan çıkarabiliriz. Daha sonra \"git add .\" ve \"git commit -m 'ignore dosyası'\" komutlarını çalıştırarak git reposuna göndermiş oluruz.\n"
   ]
  },
  {
   "cell_type": "code",
   "execution_count": null,
   "metadata": {},
   "outputs": [],
   "source": []
  }
 ],
 "metadata": {
  "kernelspec": {
   "display_name": "Python 3",
   "language": "python",
   "name": "python3"
  },
  "language_info": {
   "codemirror_mode": {
    "name": "ipython",
    "version": 3
   },
   "file_extension": ".py",
   "mimetype": "text/x-python",
   "name": "python",
   "nbconvert_exporter": "python",
   "pygments_lexer": "ipython3",
   "version": "3.7.3"
  }
 },
 "nbformat": 4,
 "nbformat_minor": 4
}
